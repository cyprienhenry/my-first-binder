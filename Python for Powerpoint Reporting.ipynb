{
 "cells": [
  {
   "cell_type": "markdown",
   "id": "24264084",
   "metadata": {},
   "source": [
    "# Powerpoint Reporting with Python"
   ]
  },
  {
   "cell_type": "code",
   "execution_count": null,
   "id": "ad5f4788",
   "metadata": {
    "collapsed": true
   },
   "outputs": [
    {
     "ename": "TypeError",
     "evalue": "to_numeric() got an unexpected keyword argument 'x'",
     "output_type": "error",
     "traceback": [
      "\u001b[0;31m---------------------------------------------------------------------------\u001b[0m\n",
      "\u001b[0;31mTypeError\u001b[0m                                 Traceback (most recent call last)\n",
      "\u001b[0;32m/var/folders/gj/ngznypm50nl09jvj3d1phrmh0000gn/T/ipykernel_11909/1228797302.py\u001b[0m in \u001b[0;36m<module>\u001b[0;34m\u001b[0m\n",
      "\u001b[0;32m----> 1\u001b[0;31m \u001b[0msales\u001b[0m\u001b[0;34m[\u001b[0m\u001b[0;34m'sales'\u001b[0m\u001b[0;34m]\u001b[0m \u001b[0;34m=\u001b[0m \u001b[0mpd\u001b[0m\u001b[0;34m.\u001b[0m\u001b[0mto_numeric\u001b[0m\u001b[0;34m(\u001b[0m\u001b[0mx\u001b[0m\u001b[0;34m=\u001b[0m\u001b[0msales\u001b[0m\u001b[0;34m[\u001b[0m\u001b[0;34m'sales'\u001b[0m\u001b[0;34m]\u001b[0m\u001b[0;34m)\u001b[0m\u001b[0;34m\u001b[0m\u001b[0;34m\u001b[0m\u001b[0m\n",
      "\u001b[0m\n",
      "\u001b[0;31mTypeError\u001b[0m: to_numeric() got an unexpected keyword argument 'x'"
     ]
    }
   ],
   "source": [
    "from pptx import Presentation\n",
    "from pptx.util import Inches\n",
    "import pandas as pd\n",
    "import numpy as np\n",
    "\n",
    "import matplotlib.pyplot as plt\n",
    "import matplotlib.dates as mdates\n",
    "import seaborn as sns\n",
    "\n",
    "import datetime\n",
    "\n",
    "from sqlalchemy import create_engine"
   ]
  },
  {
   "cell_type": "markdown",
   "id": "44932e4c",
   "metadata": {},
   "source": [
    "# 1 - Run SQL Query on Database"
   ]
  },
  {
   "cell_type": "code",
   "execution_count": 2,
   "id": "c921c61b",
   "metadata": {
    "scrolled": true
   },
   "outputs": [],
   "source": [
    "engine = create_engine('sqlite:///../datasets/grocery_sales.sqlite')\n",
    "query = \"\"\"select * from grocery_sales\"\"\"\n",
    "sales = pd.read_sql_query(query, engine)"
   ]
  },
  {
   "cell_type": "markdown",
   "id": "bf4466b9",
   "metadata": {},
   "source": [
    "# 2 - Clean data: missing values, ..."
   ]
  },
  {
   "cell_type": "code",
   "execution_count": 4,
   "id": "b50adbd8",
   "metadata": {},
   "outputs": [],
   "source": [
    "sales['transaction_date'] = pd.to_datetime(sales['transaction_date'])\n",
    "sales['sales'] = pd.to_numeric(sales['sales'])\n",
    "sales_average = sales['sales'].mean()\n",
    "sales['sales'].fillna(value = sales_average);"
   ]
  },
  {
   "cell_type": "markdown",
   "id": "45d922a4",
   "metadata": {},
   "source": [
    "# 3 - Generate Business Insights with Python"
   ]
  },
  {
   "cell_type": "markdown",
   "id": "a41156fd",
   "metadata": {},
   "source": [
    "## 3.1 - Find best customers"
   ]
  },
  {
   "cell_type": "code",
   "execution_count": 8,
   "id": "269fc491",
   "metadata": {},
   "outputs": [],
   "source": [
    "best_clients = sales.groupby('customer_id').sum()['sales'].sort_values(ascending=False)[:5]"
   ]
  },
  {
   "cell_type": "markdown",
   "id": "40dbb28c",
   "metadata": {},
   "source": [
    "## 3.2 - Plot daily sales for month"
   ]
  },
  {
   "cell_type": "code",
   "execution_count": 9,
   "id": "d4c59e65",
   "metadata": {},
   "outputs": [
    {
     "data": {
      "image/png": "[encoded data removed]",
      "text/plain": [
       "<Figure size 576x432 with 1 Axes>"
      ]
     },
     "metadata": {
      "needs_background": "light"
     },
     "output_type": "display_data"
    }
   ],
   "source": [
    "plt.figure(figsize = (8,6))\n",
    "\n",
    "myFmt = mdates.DateFormatter('%d')\n",
    "\n",
    "ax = sns.countplot(x=sales['transaction_date']);\n",
    "ax.xaxis.set_major_formatter(myFmt)\n",
    "ax.set_xlabel('Day of month')\n",
    "ax.set_ylabel('Number of transactions')\n",
    "ax.set_title('Monthly transactions per day')\n",
    "plt.savefig('./monthly_sales.png')"
   ]
  },
  {
   "cell_type": "markdown",
   "id": "7af4601c",
   "metadata": {},
   "source": [
    "# 4 - Create Powerpoint report"
   ]
  },
  {
   "cell_type": "markdown",
   "id": "903dc596",
   "metadata": {},
   "source": [
    "# 4.1 - Cover slide"
   ]
  },
  {
   "cell_type": "code",
   "execution_count": 10,
   "id": "8ed4fc86",
   "metadata": {},
   "outputs": [],
   "source": [
    "prs = Presentation()\n",
    "\n",
    "title_slide_layout = prs.slide_layouts[0]\n",
    "slide = prs.slides.add_slide(title_slide_layout)\n",
    "title = slide.shapes.title\n",
    "subtitle = slide.placeholders[1]\n",
    "\n",
    "title.text = \"Monthly reporting\"\n",
    "subtitle.text = \"Transactions per day\""
   ]
  },
  {
   "cell_type": "markdown",
   "id": "772814a6",
   "metadata": {},
   "source": [
    "# 4.2 - Sales Graph"
   ]
  },
  {
   "cell_type": "code",
   "execution_count": 11,
   "id": "e99b56ee",
   "metadata": {},
   "outputs": [],
   "source": [
    "blank_slide_layout = prs.slide_layouts[0]\n",
    "\n",
    "# ajout des slides\n",
    "slide = prs.slides.add_slide(blank_slide_layout)\n",
    "left = top = Inches(1)\n",
    "img_path = './monthly_sales.png'\n",
    "pic = slide.shapes.add_picture(img_path, left, top)"
   ]
  },
  {
   "cell_type": "markdown",
   "id": "be1b5792",
   "metadata": {},
   "source": [
    "# 4.3 - Best clients this month"
   ]
  },
  {
   "cell_type": "code",
   "execution_count": 12,
   "id": "55062a9f",
   "metadata": {},
   "outputs": [],
   "source": [
    "title_only_slide_layout = prs.slide_layouts[0]\n",
    "slide = prs.slides.add_slide(title_only_slide_layout)\n",
    "shapes = slide.shapes\n",
    "\n",
    "shapes.title.text = 'Best clients this month'\n",
    "\n",
    "cols = 2\n",
    "rows = len(best_clients)+1\n",
    "left = top = Inches(2.0)\n",
    "width = Inches(6.0)\n",
    "height = Inches(0.8)\n",
    "\n",
    "table = shapes.add_table(rows, cols, left, top, width, height).table\n",
    "\n",
    "# set column widths\n",
    "table.columns[0].width = Inches(2.0)\n",
    "table.columns[1].width = Inches(4.0)\n",
    "\n",
    "# write column headings\n",
    "table.cell(0, 0).text = 'Customer ID'\n",
    "table.cell(0, 1).text = 'Total Sales'\n",
    "\n",
    "i = 1\n",
    "for client in best_clients.items():\n",
    "    table.cell(i, 0).text = str(int(client[0]))\n",
    "    table.cell(i, 1).text = str(int(client[1]))\n",
    "    i+=1"
   ]
  },
  {
   "cell_type": "markdown",
   "id": "f97193bb",
   "metadata": {},
   "source": [
    "# 5 - Save to PPT!"
   ]
  },
  {
   "cell_type": "code",
   "execution_count": 13,
   "id": "4c3645d4",
   "metadata": {},
   "outputs": [],
   "source": [
    "prs.save('Reporting.pptx') "
   ]
  },
  {
   "cell_type": "code",
   "execution_count": 32,
   "id": "d04de8c0",
   "metadata": {},
   "outputs": [],
   "source": [
    "sales['transaction_date'] = pd.to_datetime(sales['transaction_date'])"
   ]
  },
  {
   "cell_type": "code",
   "execution_count": null,
   "id": "f55d63fa",
   "metadata": {},
   "outputs": [],
   "source": []
  },
  {
   "cell_type": "code",
   "execution_count": null,
   "id": "dc41728b",
   "metadata": {},
   "outputs": [],
   "source": []
  },
  {
   "cell_type": "code",
   "execution_count": null,
   "id": "e477d470",
   "metadata": {},
   "outputs": [],
   "source": []
  },
  {
   "cell_type": "code",
   "execution_count": null,
   "id": "62605567",
   "metadata": {},
   "outputs": [],
   "source": []
  },
  {
   "cell_type": "code",
   "execution_count": null,
   "id": "ed6bcec8",
   "metadata": {},
   "outputs": [],
   "source": []
  },
  {
   "cell_type": "code",
   "execution_count": null,
   "id": "e0068b3d",
   "metadata": {},
   "outputs": [],
   "source": []
  }
 ],
 "metadata": {
  "kernelspec": {
   "display_name": "Python 3 (ipykernel)",
   "language": "python",
   "name": "python3"
  },
  "language_info": {
   "codemirror_mode": {
    "name": "ipython",
    "version": 3
   },
   "file_extension": ".py",
   "mimetype": "text/x-python",
   "name": "python",
   "nbconvert_exporter": "python",
   "pygments_lexer": "ipython3",
   "version": "3.9.7"
  }
 },
 "nbformat": 4,
 "nbformat_minor": 5
}
